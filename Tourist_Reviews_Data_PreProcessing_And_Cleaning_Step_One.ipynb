{
 "cells": [
  {
   "cell_type": "markdown",
   "id": "ec6229bc",
   "metadata": {},
   "source": [
    "# Importing required Library "
   ]
  },
  {
   "cell_type": "code",
   "execution_count": 13,
   "id": "43767340",
   "metadata": {},
   "outputs": [
    {
     "name": "stdout",
     "output_type": "stream",
     "text": [
      "Requirement already satisfied: wordcloud in c:\\users\\business\\anaconda3\\lib\\site-packages (1.8.2.2)\n",
      "Requirement already satisfied: matplotlib in c:\\users\\business\\anaconda3\\lib\\site-packages (from wordcloud) (3.3.4)\n",
      "Requirement already satisfied: numpy>=1.6.1 in c:\\users\\business\\anaconda3\\lib\\site-packages (from wordcloud) (1.20.1)\n",
      "Requirement already satisfied: pillow in c:\\users\\business\\anaconda3\\lib\\site-packages (from wordcloud) (8.2.0)\n",
      "Requirement already satisfied: cycler>=0.10 in c:\\users\\business\\anaconda3\\lib\\site-packages (from matplotlib->wordcloud) (0.10.0)\n",
      "Requirement already satisfied: python-dateutil>=2.1 in c:\\users\\business\\anaconda3\\lib\\site-packages (from matplotlib->wordcloud) (2.8.1)\n",
      "Requirement already satisfied: kiwisolver>=1.0.1 in c:\\users\\business\\anaconda3\\lib\\site-packages (from matplotlib->wordcloud) (1.3.1)\n",
      "Requirement already satisfied: pyparsing!=2.0.4,!=2.1.2,!=2.1.6,>=2.0.3 in c:\\users\\business\\anaconda3\\lib\\site-packages (from matplotlib->wordcloud) (2.4.7)\n",
      "Requirement already satisfied: six in c:\\users\\business\\anaconda3\\lib\\site-packages (from cycler>=0.10->matplotlib->wordcloud) (1.15.0)\n"
     ]
    },
    {
     "name": "stderr",
     "output_type": "stream",
     "text": [
      "[nltk_data] Downloading package stopwords to\n",
      "[nltk_data]     C:\\Users\\BUSINESS\\AppData\\Roaming\\nltk_data...\n",
      "[nltk_data]   Package stopwords is already up-to-date!\n",
      "[nltk_data] Downloading package wordnet to\n",
      "[nltk_data]     C:\\Users\\BUSINESS\\AppData\\Roaming\\nltk_data...\n",
      "[nltk_data]   Package wordnet is already up-to-date!\n",
      "[nltk_data] Downloading package punkt to\n",
      "[nltk_data]     C:\\Users\\BUSINESS\\AppData\\Roaming\\nltk_data...\n",
      "[nltk_data]   Package punkt is already up-to-date!\n",
      "[nltk_data] Downloading package omw-1.4 to\n",
      "[nltk_data]     C:\\Users\\BUSINESS\\AppData\\Roaming\\nltk_data...\n",
      "[nltk_data]   Package omw-1.4 is already up-to-date!\n",
      "[nltk_data] Downloading package vader_lexicon to\n",
      "[nltk_data]     C:\\Users\\BUSINESS\\AppData\\Roaming\\nltk_data...\n",
      "[nltk_data]   Package vader_lexicon is already up-to-date!\n"
     ]
    }
   ],
   "source": [
    "!pip install wordcloud\n",
    "import numpy as np\n",
    "import pandas as pd\n",
    "import matplotlib.pyplot as plt\n",
    "import re\n",
    "import seaborn as sns\n",
    "from wordcloud import WordCloud\n",
    "import numpy as np\n",
    "import nltk\n",
    "nltk.download([\n",
    "    'stopwords', 'wordnet',\n",
    "    'punkt', 'omw-1.4', 'vader_lexicon'\n",
    "])\n",
    "%matplotlib inline"
   ]
  },
  {
   "cell_type": "code",
   "execution_count": 14,
   "id": "8e2e7043",
   "metadata": {},
   "outputs": [],
   "source": [
    "#Converting a collection of raw documents to a matrix of TF-IDF features\n",
    "from sklearn.feature_extraction.text import TfidfVectorizer\n",
    "from sklearn.decomposition import PCA, TruncatedSVD\n",
    "\n",
    "from sklearn import metrics"
   ]
  },
  {
   "cell_type": "markdown",
   "id": "1d467c7e",
   "metadata": {},
   "source": [
    "## Actual Data Loading "
   ]
  },
  {
   "cell_type": "code",
   "execution_count": 15,
   "id": "783686fa",
   "metadata": {},
   "outputs": [
    {
     "data": {
      "text/plain": [
       "(53644, 5)"
      ]
     },
     "execution_count": 15,
     "metadata": {},
     "output_type": "execute_result"
    }
   ],
   "source": [
    "data = pd.read_csv(\"tourist_accommodation_reviews.csv\")\n",
    "data.shape"
   ]
  },
  {
   "cell_type": "code",
   "execution_count": 16,
   "id": "2d716dee",
   "metadata": {},
   "outputs": [
    {
     "data": {
      "text/html": [
       "<div>\n",
       "<style scoped>\n",
       "    .dataframe tbody tr th:only-of-type {\n",
       "        vertical-align: middle;\n",
       "    }\n",
       "\n",
       "    .dataframe tbody tr th {\n",
       "        vertical-align: top;\n",
       "    }\n",
       "\n",
       "    .dataframe thead th {\n",
       "        text-align: right;\n",
       "    }\n",
       "</style>\n",
       "<table border=\"1\" class=\"dataframe\">\n",
       "  <thead>\n",
       "    <tr style=\"text-align: right;\">\n",
       "      <th></th>\n",
       "      <th>ID</th>\n",
       "      <th>Review Date</th>\n",
       "      <th>Location</th>\n",
       "      <th>Hotel/Restaurant name</th>\n",
       "      <th>Review</th>\n",
       "    </tr>\n",
       "  </thead>\n",
       "  <tbody>\n",
       "    <tr>\n",
       "      <th>0</th>\n",
       "      <td>rn579778340</td>\n",
       "      <td>Reviewed 1 week ago</td>\n",
       "      <td>Kathu</td>\n",
       "      <td>Thong Dee The Kathu Brasserie</td>\n",
       "      <td>Just been for sunday roast lamb and beef truly...</td>\n",
       "    </tr>\n",
       "    <tr>\n",
       "      <th>1</th>\n",
       "      <td>rn576350875</td>\n",
       "      <td>Reviewed 3 weeks ago</td>\n",
       "      <td>Kathu</td>\n",
       "      <td>Thong Dee The Kathu Brasserie</td>\n",
       "      <td>Quietly set off the main road, nice atmosphere...</td>\n",
       "    </tr>\n",
       "    <tr>\n",
       "      <th>2</th>\n",
       "      <td>rn574921678</td>\n",
       "      <td>Reviewed 4 weeks ago</td>\n",
       "      <td>Kathu</td>\n",
       "      <td>Thong Dee The Kathu Brasserie</td>\n",
       "      <td>I made a reservation for a birthday two days i...</td>\n",
       "    </tr>\n",
       "    <tr>\n",
       "      <th>3</th>\n",
       "      <td>rn572905503</td>\n",
       "      <td>Reviewed April 12, 2018</td>\n",
       "      <td>Kathu</td>\n",
       "      <td>Thong Dee The Kathu Brasserie</td>\n",
       "      <td>We visit here regularly and never fail to be i...</td>\n",
       "    </tr>\n",
       "    <tr>\n",
       "      <th>4</th>\n",
       "      <td>rn572364712</td>\n",
       "      <td>Reviewed April 10, 2018</td>\n",
       "      <td>Kathu</td>\n",
       "      <td>Thong Dee The Kathu Brasserie</td>\n",
       "      <td>Visited this wonderful place on my travels and...</td>\n",
       "    </tr>\n",
       "  </tbody>\n",
       "</table>\n",
       "</div>"
      ],
      "text/plain": [
       "            ID               Review Date Location  \\\n",
       "0  rn579778340      Reviewed 1 week ago     Kathu   \n",
       "1  rn576350875     Reviewed 3 weeks ago     Kathu   \n",
       "2  rn574921678     Reviewed 4 weeks ago     Kathu   \n",
       "3  rn572905503  Reviewed April 12, 2018     Kathu   \n",
       "4  rn572364712  Reviewed April 10, 2018     Kathu   \n",
       "\n",
       "           Hotel/Restaurant name  \\\n",
       "0  Thong Dee The Kathu Brasserie   \n",
       "1  Thong Dee The Kathu Brasserie   \n",
       "2  Thong Dee The Kathu Brasserie   \n",
       "3  Thong Dee The Kathu Brasserie   \n",
       "4  Thong Dee The Kathu Brasserie   \n",
       "\n",
       "                                              Review  \n",
       "0  Just been for sunday roast lamb and beef truly...  \n",
       "1  Quietly set off the main road, nice atmosphere...  \n",
       "2  I made a reservation for a birthday two days i...  \n",
       "3  We visit here regularly and never fail to be i...  \n",
       "4  Visited this wonderful place on my travels and...  "
      ]
     },
     "execution_count": 16,
     "metadata": {},
     "output_type": "execute_result"
    }
   ],
   "source": [
    "data.head()"
   ]
  },
  {
   "cell_type": "code",
   "execution_count": 17,
   "id": "bf43575f",
   "metadata": {},
   "outputs": [
    {
     "data": {
      "text/plain": [
       "537"
      ]
     },
     "execution_count": 17,
     "metadata": {},
     "output_type": "execute_result"
    }
   ],
   "source": [
    "#Unique Restaurants\n",
    "data['Hotel/Restaurant name'].nunique()"
   ]
  },
  {
   "cell_type": "code",
   "execution_count": 18,
   "id": "975bff5a",
   "metadata": {},
   "outputs": [
    {
     "data": {
      "text/plain": [
       "25"
      ]
     },
     "execution_count": 18,
     "metadata": {},
     "output_type": "execute_result"
    }
   ],
   "source": [
    "#Unique Location\n",
    "data['Location'].nunique()"
   ]
  },
  {
   "cell_type": "markdown",
   "id": "74c0e352",
   "metadata": {},
   "source": [
    "## Check for Null values "
   ]
  },
  {
   "cell_type": "code",
   "execution_count": 19,
   "id": "44b50167",
   "metadata": {},
   "outputs": [
    {
     "data": {
      "text/plain": [
       "ID                       0\n",
       "Review Date              0\n",
       "Location                 0\n",
       "Hotel/Restaurant name    0\n",
       "Review                   0\n",
       "dtype: int64"
      ]
     },
     "execution_count": 19,
     "metadata": {},
     "output_type": "execute_result"
    }
   ],
   "source": [
    "data.isnull().sum()"
   ]
  },
  {
   "cell_type": "markdown",
   "id": "d3daa394",
   "metadata": {},
   "source": [
    "## Check on Total Reviews per Restaurant"
   ]
  },
  {
   "cell_type": "code",
   "execution_count": 20,
   "id": "3367f2b7",
   "metadata": {},
   "outputs": [
    {
     "data": {
      "text/html": [
       "<div>\n",
       "<style scoped>\n",
       "    .dataframe tbody tr th:only-of-type {\n",
       "        vertical-align: middle;\n",
       "    }\n",
       "\n",
       "    .dataframe tbody tr th {\n",
       "        vertical-align: top;\n",
       "    }\n",
       "\n",
       "    .dataframe thead th {\n",
       "        text-align: right;\n",
       "    }\n",
       "</style>\n",
       "<table border=\"1\" class=\"dataframe\">\n",
       "  <thead>\n",
       "    <tr style=\"text-align: right;\">\n",
       "      <th></th>\n",
       "      <th>Hotel/Restaurant name</th>\n",
       "      <th>Total_Reviews</th>\n",
       "    </tr>\n",
       "  </thead>\n",
       "  <tbody>\n",
       "    <tr>\n",
       "      <th>110</th>\n",
       "      <td>Da Mario</td>\n",
       "      <td>279</td>\n",
       "    </tr>\n",
       "    <tr>\n",
       "      <th>298</th>\n",
       "      <td>No.6 Restaurant</td>\n",
       "      <td>200</td>\n",
       "    </tr>\n",
       "    <tr>\n",
       "      <th>383</th>\n",
       "      <td>Sabai Sabai</td>\n",
       "      <td>200</td>\n",
       "    </tr>\n",
       "    <tr>\n",
       "      <th>483</th>\n",
       "      <td>The Pizza Company</td>\n",
       "      <td>198</td>\n",
       "    </tr>\n",
       "    <tr>\n",
       "      <th>470</th>\n",
       "      <td>The Family Restaurant</td>\n",
       "      <td>196</td>\n",
       "    </tr>\n",
       "    <tr>\n",
       "      <th>...</th>\n",
       "      <td>...</td>\n",
       "      <td>...</td>\n",
       "    </tr>\n",
       "    <tr>\n",
       "      <th>433</th>\n",
       "      <td>Sultan's Grill Authentic Turkish &amp; Indian Cuisine</td>\n",
       "      <td>91</td>\n",
       "    </tr>\n",
       "    <tr>\n",
       "      <th>0</th>\n",
       "      <td>+39 Italian Street Food</td>\n",
       "      <td>91</td>\n",
       "    </tr>\n",
       "    <tr>\n",
       "      <th>93</th>\n",
       "      <td>Chez Nicolas</td>\n",
       "      <td>90</td>\n",
       "    </tr>\n",
       "    <tr>\n",
       "      <th>115</th>\n",
       "      <td>Dada Yura Restaurant</td>\n",
       "      <td>80</td>\n",
       "    </tr>\n",
       "    <tr>\n",
       "      <th>91</th>\n",
       "      <td>Chekhoff Restaurant and Bar</td>\n",
       "      <td>30</td>\n",
       "    </tr>\n",
       "  </tbody>\n",
       "</table>\n",
       "<p>537 rows × 2 columns</p>\n",
       "</div>"
      ],
      "text/plain": [
       "                                 Hotel/Restaurant name  Total_Reviews\n",
       "110                                           Da Mario            279\n",
       "298                                    No.6 Restaurant            200\n",
       "383                                        Sabai Sabai            200\n",
       "483                                  The Pizza Company            198\n",
       "470                              The Family Restaurant            196\n",
       "..                                                 ...            ...\n",
       "433  Sultan's Grill Authentic Turkish & Indian Cuisine             91\n",
       "0                              +39 Italian Street Food             91\n",
       "93                                        Chez Nicolas             90\n",
       "115                               Dada Yura Restaurant             80\n",
       "91                         Chekhoff Restaurant and Bar             30\n",
       "\n",
       "[537 rows x 2 columns]"
      ]
     },
     "execution_count": 20,
     "metadata": {},
     "output_type": "execute_result"
    }
   ],
   "source": [
    "HotelReviewCount = pd.DataFrame(data.groupby(['Hotel/Restaurant name']).\\\n",
    "                         agg(Total_Reviews=('Review','count'))).reset_index().\\\n",
    "                    sort_values(by=\"Total_Reviews\",ascending=False)\n",
    "HotelReviewCount"
   ]
  },
  {
   "cell_type": "markdown",
   "id": "91dd719b",
   "metadata": {},
   "source": [
    "## Pre-Processing reviews to get a cleaned and processed version to analyze"
   ]
  },
  {
   "cell_type": "code",
   "execution_count": 21,
   "id": "24ec5a67",
   "metadata": {},
   "outputs": [
    {
     "name": "stdout",
     "output_type": "stream",
     "text": [
      "Requirement already satisfied: contractions in c:\\users\\business\\anaconda3\\lib\\site-packages (0.1.73)\n",
      "Requirement already satisfied: textsearch>=0.0.21 in c:\\users\\business\\anaconda3\\lib\\site-packages (from contractions) (0.0.24)\n",
      "Requirement already satisfied: pyahocorasick in c:\\users\\business\\anaconda3\\lib\\site-packages (from textsearch>=0.0.21->contractions) (1.4.4)\n",
      "Requirement already satisfied: anyascii in c:\\users\\business\\anaconda3\\lib\\site-packages (from textsearch>=0.0.21->contractions) (0.3.1)\n",
      "Requirement already satisfied: spacy in c:\\users\\business\\anaconda3\\lib\\site-packages (3.4.3)\n",
      "Requirement already satisfied: murmurhash<1.1.0,>=0.28.0 in c:\\users\\business\\anaconda3\\lib\\site-packages (from spacy) (1.0.9)\n",
      "Requirement already satisfied: langcodes<4.0.0,>=3.2.0 in c:\\users\\business\\anaconda3\\lib\\site-packages (from spacy) (3.3.0)\n",
      "Requirement already satisfied: numpy>=1.15.0 in c:\\users\\business\\anaconda3\\lib\\site-packages (from spacy) (1.20.1)\n",
      "Requirement already satisfied: typer<0.8.0,>=0.3.0 in c:\\users\\business\\anaconda3\\lib\\site-packages (from spacy) (0.7.0)\n",
      "Requirement already satisfied: pydantic!=1.8,!=1.8.1,<1.11.0,>=1.7.4 in c:\\users\\business\\anaconda3\\lib\\site-packages (from spacy) (1.10.2)\n",
      "Requirement already satisfied: pathy>=0.3.5 in c:\\users\\business\\anaconda3\\lib\\site-packages (from spacy) (0.10.0)\n",
      "Requirement already satisfied: jinja2 in c:\\users\\business\\anaconda3\\lib\\site-packages (from spacy) (2.11.3)\n",
      "Requirement already satisfied: wasabi<1.1.0,>=0.9.1 in c:\\users\\business\\anaconda3\\lib\\site-packages (from spacy) (0.10.1)\n",
      "Requirement already satisfied: requests<3.0.0,>=2.13.0 in c:\\users\\business\\anaconda3\\lib\\site-packages (from spacy) (2.25.1)\n",
      "Requirement already satisfied: packaging>=20.0 in c:\\users\\business\\anaconda3\\lib\\site-packages (from spacy) (20.9)\n",
      "Requirement already satisfied: spacy-loggers<2.0.0,>=1.0.0 in c:\\users\\business\\anaconda3\\lib\\site-packages (from spacy) (1.0.3)\n",
      "Requirement already satisfied: catalogue<2.1.0,>=2.0.6 in c:\\users\\business\\anaconda3\\lib\\site-packages (from spacy) (2.0.8)\n",
      "Requirement already satisfied: tqdm<5.0.0,>=4.38.0 in c:\\users\\business\\anaconda3\\lib\\site-packages (from spacy) (4.59.0)\n",
      "Requirement already satisfied: setuptools in c:\\users\\business\\anaconda3\\lib\\site-packages (from spacy) (52.0.0.post20210125)\n",
      "Requirement already satisfied: spacy-legacy<3.1.0,>=3.0.10 in c:\\users\\business\\anaconda3\\lib\\site-packages (from spacy) (3.0.10)\n",
      "Requirement already satisfied: preshed<3.1.0,>=3.0.2 in c:\\users\\business\\anaconda3\\lib\\site-packages (from spacy) (3.0.8)\n",
      "Requirement already satisfied: thinc<8.2.0,>=8.1.0 in c:\\users\\business\\anaconda3\\lib\\site-packages (from spacy) (8.1.5)\n",
      "Requirement already satisfied: cymem<2.1.0,>=2.0.2 in c:\\users\\business\\anaconda3\\lib\\site-packages (from spacy) (2.0.7)\n",
      "Requirement already satisfied: srsly<3.0.0,>=2.4.3 in c:\\users\\business\\anaconda3\\lib\\site-packages (from spacy) (2.4.5)\n",
      "Requirement already satisfied: pyparsing>=2.0.2 in c:\\users\\business\\anaconda3\\lib\\site-packages (from packaging>=20.0->spacy) (2.4.7)\n",
      "Requirement already satisfied: smart-open<6.0.0,>=5.2.1 in c:\\users\\business\\anaconda3\\lib\\site-packages (from pathy>=0.3.5->spacy) (5.2.1)\n",
      "Requirement already satisfied: typing-extensions>=4.1.0 in c:\\users\\business\\anaconda3\\lib\\site-packages (from pydantic!=1.8,!=1.8.1,<1.11.0,>=1.7.4->spacy) (4.4.0)\n",
      "Requirement already satisfied: idna<3,>=2.5 in c:\\users\\business\\anaconda3\\lib\\site-packages (from requests<3.0.0,>=2.13.0->spacy) (2.10)\n",
      "Requirement already satisfied: urllib3<1.27,>=1.21.1 in c:\\users\\business\\anaconda3\\lib\\site-packages (from requests<3.0.0,>=2.13.0->spacy) (1.26.4)\n",
      "Requirement already satisfied: certifi>=2017.4.17 in c:\\users\\business\\anaconda3\\lib\\site-packages (from requests<3.0.0,>=2.13.0->spacy) (2020.12.5)\n",
      "Requirement already satisfied: chardet<5,>=3.0.2 in c:\\users\\business\\anaconda3\\lib\\site-packages (from requests<3.0.0,>=2.13.0->spacy) (4.0.0)\n",
      "Requirement already satisfied: confection<1.0.0,>=0.0.1 in c:\\users\\business\\anaconda3\\lib\\site-packages (from thinc<8.2.0,>=8.1.0->spacy) (0.0.3)\n",
      "Requirement already satisfied: blis<0.8.0,>=0.7.8 in c:\\users\\business\\anaconda3\\lib\\site-packages (from thinc<8.2.0,>=8.1.0->spacy) (0.7.9)\n",
      "Requirement already satisfied: click<9.0.0,>=7.1.1 in c:\\users\\business\\anaconda3\\lib\\site-packages (from typer<0.8.0,>=0.3.0->spacy) (7.1.2)\n",
      "Requirement already satisfied: MarkupSafe>=0.23 in c:\\users\\business\\anaconda3\\lib\\site-packages (from jinja2->spacy) (1.1.1)\n"
     ]
    }
   ],
   "source": [
    "#Pre-Processing reviews to get a cleaned and processed version to analyze\n",
    "!pip install contractions\n",
    "!pip install spacy\n",
    "import re\n",
    "\n",
    "import contractions\n",
    "import spacy\n",
    "import nltk\n",
    "\n",
    "from nltk.sentiment.vader import SentimentIntensityAnalyzer"
   ]
  },
  {
   "cell_type": "code",
   "execution_count": 22,
   "id": "a16eef0d",
   "metadata": {},
   "outputs": [],
   "source": [
    "reviews = pd.DataFrame(data['Review'])"
   ]
  },
  {
   "cell_type": "code",
   "execution_count": 23,
   "id": "115b55ea",
   "metadata": {},
   "outputs": [
    {
     "data": {
      "text/html": [
       "<div>\n",
       "<style scoped>\n",
       "    .dataframe tbody tr th:only-of-type {\n",
       "        vertical-align: middle;\n",
       "    }\n",
       "\n",
       "    .dataframe tbody tr th {\n",
       "        vertical-align: top;\n",
       "    }\n",
       "\n",
       "    .dataframe thead th {\n",
       "        text-align: right;\n",
       "    }\n",
       "</style>\n",
       "<table border=\"1\" class=\"dataframe\">\n",
       "  <thead>\n",
       "    <tr style=\"text-align: right;\">\n",
       "      <th></th>\n",
       "      <th>Review</th>\n",
       "    </tr>\n",
       "  </thead>\n",
       "  <tbody>\n",
       "    <tr>\n",
       "      <th>0</th>\n",
       "      <td>Just been for sunday roast lamb and beef truly...</td>\n",
       "    </tr>\n",
       "    <tr>\n",
       "      <th>1</th>\n",
       "      <td>Quietly set off the main road, nice atmosphere...</td>\n",
       "    </tr>\n",
       "    <tr>\n",
       "      <th>2</th>\n",
       "      <td>I made a reservation for a birthday two days i...</td>\n",
       "    </tr>\n",
       "    <tr>\n",
       "      <th>3</th>\n",
       "      <td>We visit here regularly and never fail to be i...</td>\n",
       "    </tr>\n",
       "    <tr>\n",
       "      <th>4</th>\n",
       "      <td>Visited this wonderful place on my travels and...</td>\n",
       "    </tr>\n",
       "    <tr>\n",
       "      <th>...</th>\n",
       "      <td>...</td>\n",
       "    </tr>\n",
       "    <tr>\n",
       "      <th>53639</th>\n",
       "      <td>I love this small restaurant, for the great fo...</td>\n",
       "    </tr>\n",
       "    <tr>\n",
       "      <th>53640</th>\n",
       "      <td>We stopped at this restaurant after shopping a...</td>\n",
       "    </tr>\n",
       "    <tr>\n",
       "      <th>53641</th>\n",
       "      <td>Great times ,This is one of the best restauran...</td>\n",
       "    </tr>\n",
       "    <tr>\n",
       "      <th>53642</th>\n",
       "      <td>Bite in, it has become my favorite restaurant ...</td>\n",
       "    </tr>\n",
       "    <tr>\n",
       "      <th>53643</th>\n",
       "      <td>The restaurant put in a good location in Jungc...</td>\n",
       "    </tr>\n",
       "  </tbody>\n",
       "</table>\n",
       "<p>53644 rows × 1 columns</p>\n",
       "</div>"
      ],
      "text/plain": [
       "                                                  Review\n",
       "0      Just been for sunday roast lamb and beef truly...\n",
       "1      Quietly set off the main road, nice atmosphere...\n",
       "2      I made a reservation for a birthday two days i...\n",
       "3      We visit here regularly and never fail to be i...\n",
       "4      Visited this wonderful place on my travels and...\n",
       "...                                                  ...\n",
       "53639  I love this small restaurant, for the great fo...\n",
       "53640  We stopped at this restaurant after shopping a...\n",
       "53641  Great times ,This is one of the best restauran...\n",
       "53642  Bite in, it has become my favorite restaurant ...\n",
       "53643  The restaurant put in a good location in Jungc...\n",
       "\n",
       "[53644 rows x 1 columns]"
      ]
     },
     "execution_count": 23,
     "metadata": {},
     "output_type": "execute_result"
    }
   ],
   "source": [
    "reviews"
   ]
  },
  {
   "cell_type": "code",
   "execution_count": 24,
   "id": "b035ce26",
   "metadata": {},
   "outputs": [
    {
     "name": "stdout",
     "output_type": "stream",
     "text": [
      "✔ Download and installation successful\n",
      "You can now load the package via spacy.load('en_core_web_sm')\n"
     ]
    }
   ],
   "source": [
    "spacy.cli.download('en_core_web_sm')"
   ]
  },
  {
   "cell_type": "code",
   "execution_count": 25,
   "id": "b9378c6c",
   "metadata": {
    "scrolled": true
   },
   "outputs": [],
   "source": [
    "nlp = spacy.load('en_core_web_sm')\n",
    "ps = nltk.porter.PorterStemmer()"
   ]
  },
  {
   "cell_type": "markdown",
   "id": "6389e802",
   "metadata": {},
   "source": [
    "## Defining Functions for Data Cleaning and Pre-processing"
   ]
  },
  {
   "cell_type": "code",
   "execution_count": 26,
   "id": "b3d5b0da",
   "metadata": {},
   "outputs": [],
   "source": [
    "def expand_contractions(text):\n",
    "    return contractions.fix(text)\n",
    "\n",
    "\n",
    "def spacy_lemmatize_text(text):\n",
    "    text = nlp(text)\n",
    "    text = ' '.join([word.lemma_ if word.lemma_ != '-PRON-' else word.text for word in text])\n",
    "    return text\n",
    "\n",
    "def remove_special_characters(text, remove_digits=False):\n",
    "    pattern = r'[^a-zA-Z0-9\\s]' if not remove_digits else r'[^a-zA-Z\\s]'\n",
    "    text = re.sub(pattern, '', text)\n",
    "    return text\n",
    "\n",
    "\n",
    "def remove_stopwords(text, is_lower_case=False, stopwords=None):\n",
    "    if not stopwords:\n",
    "        stopwords = nltk.corpus.stopwords.words('english')\n",
    "    tokens = nltk.word_tokenize(text)\n",
    "    tokens = [token.strip() for token in tokens]\n",
    "    \n",
    "    if is_lower_case:\n",
    "        filtered_tokens = [token for token in tokens if token not in stopwords]\n",
    "    else:\n",
    "        filtered_tokens = [token for token in tokens if token.lower() not in stopwords]\n",
    "    \n",
    "    filtered_text = ' '.join(filtered_tokens)    \n",
    "    return filtered_text"
   ]
  },
  {
   "cell_type": "markdown",
   "id": "6946c3f8",
   "metadata": {},
   "source": [
    "## Preliminary Data Pre-Processing Steps"
   ]
  },
  {
   "cell_type": "code",
   "execution_count": 27,
   "id": "751a07f2",
   "metadata": {},
   "outputs": [],
   "source": [
    "def text_pre_processor(text, contraction_expansion=True,\n",
    "                       text_lower_case=True, text_lemmatization=True, \n",
    "                       special_char_removal=True, remove_digits=True, stopword_removal=True, \n",
    "                       stopword_list=None):\n",
    "    # lowercase the text    \n",
    "    if text_lower_case:\n",
    "        text = text.lower()\n",
    "\n",
    "    # expand contractions    \n",
    "    if contraction_expansion:\n",
    "        text = expand_contractions(text)\n",
    "        \n",
    "    # lemmatize text\n",
    "    if text_lemmatization:\n",
    "        text = spacy_lemmatize_text(text)\n",
    "        \n",
    "    # remove special characters and\\or digits    \n",
    "    if special_char_removal:\n",
    "        text = remove_special_characters(text, remove_digits=remove_digits)\n",
    "\n",
    "    # remove stopwords\n",
    "    if stopword_removal:\n",
    "        text = remove_stopwords(text)\n",
    "        \n",
    "    # remove extra whitespace\n",
    "    text = re.sub(' +', ' ', text)\n",
    "    text = text.strip()\n",
    "    \n",
    "    return text"
   ]
  },
  {
   "cell_type": "code",
   "execution_count": 28,
   "id": "471af757",
   "metadata": {},
   "outputs": [],
   "source": [
    "reviews['Processed_review'] = reviews['Review'].apply(lambda x : text_pre_processor(x))"
   ]
  },
  {
   "cell_type": "code",
   "execution_count": 29,
   "id": "6da7efd0",
   "metadata": {},
   "outputs": [
    {
     "data": {
      "text/html": [
       "<div>\n",
       "<style scoped>\n",
       "    .dataframe tbody tr th:only-of-type {\n",
       "        vertical-align: middle;\n",
       "    }\n",
       "\n",
       "    .dataframe tbody tr th {\n",
       "        vertical-align: top;\n",
       "    }\n",
       "\n",
       "    .dataframe thead th {\n",
       "        text-align: right;\n",
       "    }\n",
       "</style>\n",
       "<table border=\"1\" class=\"dataframe\">\n",
       "  <thead>\n",
       "    <tr style=\"text-align: right;\">\n",
       "      <th></th>\n",
       "      <th>Review</th>\n",
       "      <th>Processed_review</th>\n",
       "    </tr>\n",
       "  </thead>\n",
       "  <tbody>\n",
       "    <tr>\n",
       "      <th>0</th>\n",
       "      <td>Just been for sunday roast lamb and beef truly...</td>\n",
       "      <td>sunday roast lamb beef truly excellentout coud...</td>\n",
       "    </tr>\n",
       "    <tr>\n",
       "      <th>1</th>\n",
       "      <td>Quietly set off the main road, nice atmosphere...</td>\n",
       "      <td>quietly set main road nice atmosphere immacula...</td>\n",
       "    </tr>\n",
       "    <tr>\n",
       "      <th>2</th>\n",
       "      <td>I made a reservation for a birthday two days i...</td>\n",
       "      <td>make reservation birthday two day advance assu...</td>\n",
       "    </tr>\n",
       "    <tr>\n",
       "      <th>3</th>\n",
       "      <td>We visit here regularly and never fail to be i...</td>\n",
       "      <td>visit regularly never fail impress quality pre...</td>\n",
       "    </tr>\n",
       "    <tr>\n",
       "      <th>4</th>\n",
       "      <td>Visited this wonderful place on my travels and...</td>\n",
       "      <td>visit wonderful place travel complain anything...</td>\n",
       "    </tr>\n",
       "  </tbody>\n",
       "</table>\n",
       "</div>"
      ],
      "text/plain": [
       "                                              Review  \\\n",
       "0  Just been for sunday roast lamb and beef truly...   \n",
       "1  Quietly set off the main road, nice atmosphere...   \n",
       "2  I made a reservation for a birthday two days i...   \n",
       "3  We visit here regularly and never fail to be i...   \n",
       "4  Visited this wonderful place on my travels and...   \n",
       "\n",
       "                                    Processed_review  \n",
       "0  sunday roast lamb beef truly excellentout coud...  \n",
       "1  quietly set main road nice atmosphere immacula...  \n",
       "2  make reservation birthday two day advance assu...  \n",
       "3  visit regularly never fail impress quality pre...  \n",
       "4  visit wonderful place travel complain anything...  "
      ]
     },
     "execution_count": 29,
     "metadata": {},
     "output_type": "execute_result"
    }
   ],
   "source": [
    "reviews.head()"
   ]
  },
  {
   "cell_type": "code",
   "execution_count": 30,
   "id": "4c026b09",
   "metadata": {},
   "outputs": [],
   "source": [
    "reviews.to_csv(\"Raw_CleanedReviews.csv\",index=False)"
   ]
  }
 ],
 "metadata": {
  "kernelspec": {
   "display_name": "Python 3",
   "language": "python",
   "name": "python3"
  },
  "language_info": {
   "codemirror_mode": {
    "name": "ipython",
    "version": 3
   },
   "file_extension": ".py",
   "mimetype": "text/x-python",
   "name": "python",
   "nbconvert_exporter": "python",
   "pygments_lexer": "ipython3",
   "version": "3.8.8"
  }
 },
 "nbformat": 4,
 "nbformat_minor": 5
}
